{
 "cells": [
  {
   "cell_type": "code",
   "execution_count": 52,
   "metadata": {},
   "outputs": [
    {
     "name": "stderr",
     "output_type": "stream",
     "text": [
      "\n",
      "image 1/1 /Users/hwangseho/Documents/GitHub/pyqt/images/street.jpeg: 512x512 5 persons, 2 backpacks, 215.4ms\n",
      "Speed: 1.0ms preprocess, 215.4ms inference, 3.1ms postprocess per image at shape (1, 3, 512, 512)\n"
     ]
    }
   ],
   "source": [
    "from ultralytics import YOLO\n",
    "\n",
    "model=YOLO('./model/yolov8s-seg.pt')\n",
    "\n",
    "imgPath='./images/street.jpeg'\n",
    "\n",
    "res=model(imgPath,imgsz=512)"
   ]
  },
  {
   "cell_type": "code",
   "execution_count": 9,
   "metadata": {},
   "outputs": [
    {
     "name": "stderr",
     "output_type": "stream",
     "text": [
      "\n",
      "image 1/1 /Users/hwangseho/Documents/GitHub/pyqt/images/street.jpeg: 640x384 8 persons, 2 backpacks, 160.7ms\n",
      "Speed: 3.3ms preprocess, 160.7ms inference, 3.5ms postprocess per image at shape (1, 3, 640, 384)\n",
      "Results saved to \u001b[1mruns/segment/predict\u001b[0m\n"
     ]
    }
   ],
   "source": [
    "res=model(imgPath,save=True,imgsz=512)"
   ]
  },
  {
   "cell_type": "code",
   "execution_count": 66,
   "metadata": {},
   "outputs": [
    {
     "name": "stdout",
     "output_type": "stream",
     "text": [
      "[ 0 24]\n"
     ]
    }
   ],
   "source": [
    "import numpy as np\n",
    "\n",
    "for r in res:\n",
    "    clss=r.boxes.cls.numpy().astype('int16')\n",
    "    clss=np.unique(clss)\n",
    "    print(clss)"
   ]
  },
  {
   "cell_type": "code",
   "execution_count": 136,
   "metadata": {},
   "outputs": [
    {
     "name": "stdout",
     "output_type": "stream",
     "text": [
      "float32\n"
     ]
    }
   ],
   "source": [
    "from PIL import Image\n",
    "#166,363\n",
    "for r in res:\n",
    "    # boxes=r.boxes.cls\n",
    "    # for c in r.boxes.cls:\n",
    "    #     print(model.names[int(c)])\n",
    "    \n",
    "    for mask in r.masks:\n",
    "        m=mask.data[0].numpy()\n",
    "        print(m.dtype)\n",
    "\n",
    "        mask_img=Image.fromarray(m,\"I\")\n",
    "        mask_img.show()\n",
    "        break"
   ]
  },
  {
   "cell_type": "code",
   "execution_count": 137,
   "metadata": {},
   "outputs": [],
   "source": [
    "from PIL import Image\n",
    "\n",
    "class maskImage():\n",
    "    def __init__(self):\n",
    "        self.maskArr=np.zeros((512,512),dtype=float)\n",
    "\n",
    "    def add_mask(self,mask):\n",
    "        self.maskArr=np.where(self.maskArr,self.maskArr,mask)\n",
    "        # print(mask[456][231])\n",
    "\n",
    "    def show(self):\n",
    "        mask_img=Image.fromarray(np.uint8(255*self.maskArr))\n",
    "        mask_img.show()\n",
    "\n",
    "aa=maskImage()\n",
    "\n",
    "selectPoint=[456,231]\n",
    "\n",
    "for r in res:\n",
    "    # boxes=r.boxes.cls\n",
    "    # for c in r.boxes.cls:\n",
    "    #     print(model.names[int(c)])\n",
    "    \n",
    "    for mask in r.masks:\n",
    "        m=mask.data[0].numpy()\n",
    "\n",
    "        if m[selectPoint[0]][selectPoint[1]]!=0:\n",
    "            aa.add_mask(m)\n",
    "            # mask_img=Image.fromarray(m,\"I\")\n",
    "            # mask_img.show()\n",
    "\n",
    "aa.show()"
   ]
  },
  {
   "cell_type": "code",
   "execution_count": null,
   "metadata": {},
   "outputs": [],
   "source": [
    "from threading import Thread\n",
    "\n",
    "class getMask(Thread):\n",
    "    def __init__(self,px,py):\n",
    "        super().__init__()\n",
    "        self.x=px\n",
    "        self.y=py\n",
    "        self.res=None\n",
    "\n",
    "    def run(self):\n",
    "        self.res=self.x+self.y\n",
    "\n",
    "    def get_result(self):\n",
    "        return self.res"
   ]
  },
  {
   "cell_type": "code",
   "execution_count": 125,
   "metadata": {},
   "outputs": [
    {
     "name": "stdout",
     "output_type": "stream",
     "text": [
      "<class 'numpy.ndarray'>\n"
     ]
    }
   ],
   "source": [
    "from PIL import Image\n",
    "class maskImage():\n",
    "    def __init__(self):\n",
    "        self.maskArr=np.zeros((512,512))\n",
    "\n",
    "    def add_mask(self):\n",
    "        mask=np.zeros((512,512))\n",
    "        print(type(mask))\n",
    "        for i in range(10,100):\n",
    "            for j in range(10,100):\n",
    "                mask[i][j]=255\n",
    "        \n",
    "        # mask_img=Image.fromarray(mask,\"I\")\n",
    "        # mask_img.show()\n",
    "        self.maskArr=np.where(mask,mask,self.maskArr)\n",
    "\n",
    "    def show(self):\n",
    "        mask_img=Image.fromarray(self.maskArr,\"I\")\n",
    "        mask_img.show()\n",
    "\n",
    "aa=maskImage()\n",
    "aa.add_mask()\n",
    "aa.show()"
   ]
  }
 ],
 "metadata": {
  "kernelspec": {
   "display_name": "pyqt",
   "language": "python",
   "name": "python3"
  },
  "language_info": {
   "codemirror_mode": {
    "name": "ipython",
    "version": 3
   },
   "file_extension": ".py",
   "mimetype": "text/x-python",
   "name": "python",
   "nbconvert_exporter": "python",
   "pygments_lexer": "ipython3",
   "version": "3.11.5"
  }
 },
 "nbformat": 4,
 "nbformat_minor": 2
}
